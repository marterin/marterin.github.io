{
 "cells": [
  {
   "cell_type": "markdown",
   "metadata": {},
   "source": [
    "# Publications markdown generator for academicpages\n",
    "\n",
    "Takes a TSV of publications with metadata and converts them for use with [academicpages.github.io](academicpages.github.io). This is an interactive Jupyter notebook ([see more info here](http://jupyter-notebook-beginner-guide.readthedocs.io/en/latest/what_is_jupyter.html)). The core python code is also in `publications.py`. Run either from the `markdown_generator` folder after replacing `publications.tsv` with one containing your data.\n",
    "\n",
    "TODO: Make this work with BibTex and other databases of citations, rather than Stuart's non-standard TSV format and citation style.\n"
   ]
  },
  {
   "cell_type": "markdown",
   "metadata": {},
   "source": [
    "## Data format\n",
    "\n",
    "The TSV needs to have the following columns: pub_date, title, venue, excerpt, citation, site_url, and paper_url, with a header at the top. \n",
    "\n",
    "- `excerpt` and `paper_url` can be blank, but the others must have values. \n",
    "- `pub_date` must be formatted as YYYY-MM-DD.\n",
    "- `url_slug` will be the descriptive part of the .md file and the permalink URL for the page about the paper. The .md file will be `YYYY-MM-DD-[url_slug].md` and the permalink will be `https://[yourdomain]/publications/YYYY-MM-DD-[url_slug]`\n",
    "\n",
    "This is how the raw file looks (it doesn't look pretty, use a spreadsheet or other program to edit and create)."
   ]
  },
  {
   "cell_type": "code",
   "execution_count": 2,
   "metadata": {},
   "outputs": [
    {
     "name": "stderr",
     "output_type": "stream",
     "text": [
      "'cat' is not recognized as an internal or external command,\n",
      "operable program or batch file.\n"
     ]
    }
   ],
   "source": [
    "!cat publications.tsv"
   ]
  },
  {
   "cell_type": "markdown",
   "metadata": {},
   "source": [
    "## Import pandas\n",
    "\n",
    "We are using the very handy pandas library for dataframes."
   ]
  },
  {
   "cell_type": "code",
   "execution_count": 45,
   "metadata": {},
   "outputs": [],
   "source": [
    "import pandas as pd"
   ]
  },
  {
   "cell_type": "markdown",
   "metadata": {},
   "source": [
    "## Import TSV\n",
    "\n",
    "Pandas makes this easy with the read_csv function. We are using a TSV, so we specify the separator as a tab, or `\\t`.\n",
    "\n",
    "I found it important to put this data in a tab-separated values format, because there are a lot of commas in this kind of data and comma-separated values can get messed up. However, you can modify the import statement, as pandas also has read_excel(), read_json(), and others."
   ]
  },
  {
   "cell_type": "code",
   "execution_count": 69,
   "metadata": {},
   "outputs": [
    {
     "data": {
      "text/html": [
       "<div>\n",
       "<style scoped>\n",
       "    .dataframe tbody tr th:only-of-type {\n",
       "        vertical-align: middle;\n",
       "    }\n",
       "\n",
       "    .dataframe tbody tr th {\n",
       "        vertical-align: top;\n",
       "    }\n",
       "\n",
       "    .dataframe thead th {\n",
       "        text-align: right;\n",
       "    }\n",
       "</style>\n",
       "<table border=\"1\" class=\"dataframe\">\n",
       "  <thead>\n",
       "    <tr style=\"text-align: right;\">\n",
       "      <th></th>\n",
       "      <th>pub_date</th>\n",
       "      <th>title</th>\n",
       "      <th>venue</th>\n",
       "      <th>excerpt</th>\n",
       "      <th>citation</th>\n",
       "      <th>url_slug</th>\n",
       "      <th>paper_url</th>\n",
       "    </tr>\n",
       "  </thead>\n",
       "  <tbody>\n",
       "    <tr>\n",
       "      <th>0</th>\n",
       "      <td>2020-11-09</td>\n",
       "      <td>Evidence for the endocannabinoid system as a t...</td>\n",
       "      <td>Current Addiction Reports</td>\n",
       "      <td>Words</td>\n",
       "      <td>&lt;b&gt;Martin EL&lt;/b&gt; &amp; McRae-Clark AL. Evidence fo...</td>\n",
       "      <td>ecs-cud-review</td>\n",
       "      <td>http://marterin.github.io/files/Martin &amp; McRae...</td>\n",
       "    </tr>\n",
       "    <tr>\n",
       "      <th>1</th>\n",
       "      <td>2020-06-08</td>\n",
       "      <td>A cross-sectional and prospective comparison o...</td>\n",
       "      <td>Cannabis and Cannabinoid Research</td>\n",
       "      <td>Words</td>\n",
       "      <td>Schlienz NJ, Scalsky R, &lt;b&gt;Martin EL&lt;/b&gt;, Jack...</td>\n",
       "      <td>medicinal-cannabis</td>\n",
       "      <td>http://marterin.github.io/files/Schlienz et al...</td>\n",
       "    </tr>\n",
       "    <tr>\n",
       "      <th>2</th>\n",
       "      <td>2021-05-28</td>\n",
       "      <td>Assessment of cognitive and psychomotor impair...</td>\n",
       "      <td>Journal of Psychopharmacology</td>\n",
       "      <td>Words</td>\n",
       "      <td>Spindle TR, &lt;b&gt;Martin EL&lt;/b&gt;, Grabenauer M, Wo...</td>\n",
       "      <td>cannabis-impairment</td>\n",
       "      <td>http://marterin.github.io/files/Spindle et al....</td>\n",
       "    </tr>\n",
       "    <tr>\n",
       "      <th>3</th>\n",
       "      <td>2021-07-10</td>\n",
       "      <td>Consideration of sex as a biological variable ...</td>\n",
       "      <td>Neurobiology of Stress</td>\n",
       "      <td>Words</td>\n",
       "      <td>&lt;b&gt;Martin EL&lt;/b&gt;, Doncheck EM, Reichel CM, &amp; M...</td>\n",
       "      <td>sex-stress-translation</td>\n",
       "      <td>http://marterin.github.io/files/Martin et al. ...</td>\n",
       "    </tr>\n",
       "    <tr>\n",
       "      <th>4</th>\n",
       "      <td>2021-09-01</td>\n",
       "      <td>Cross-sectional and longitudinal evaluation of...</td>\n",
       "      <td>Epilepsy &amp; Behavior</td>\n",
       "      <td>Words</td>\n",
       "      <td>Strickland JC, Jackson H, Schlienz NJ, Salpeka...</td>\n",
       "      <td>cannabis-epilepsy</td>\n",
       "      <td>http://marterin.github.io/files/Strickland et ...</td>\n",
       "    </tr>\n",
       "    <tr>\n",
       "      <th>5</th>\n",
       "      <td>2021-09-09</td>\n",
       "      <td>Antidepressant and anxiolytic effects of medic...</td>\n",
       "      <td>Frontiers in Psychiatry</td>\n",
       "      <td>Words</td>\n",
       "      <td>&lt;b&gt;Martin EL&lt;/b&gt;, Strickland JC, Schlienz NJ, ...</td>\n",
       "      <td>cannabis-depression-anxiety</td>\n",
       "      <td>http://marterin.github.io/files/Martin et al. ...</td>\n",
       "    </tr>\n",
       "  </tbody>\n",
       "</table>\n",
       "</div>"
      ],
      "text/plain": [
       "     pub_date                                              title  \\\n",
       "0  2020-11-09  Evidence for the endocannabinoid system as a t...   \n",
       "1  2020-06-08  A cross-sectional and prospective comparison o...   \n",
       "2  2021-05-28  Assessment of cognitive and psychomotor impair...   \n",
       "3  2021-07-10  Consideration of sex as a biological variable ...   \n",
       "4  2021-09-01  Cross-sectional and longitudinal evaluation of...   \n",
       "5  2021-09-09  Antidepressant and anxiolytic effects of medic...   \n",
       "\n",
       "                               venue excerpt  \\\n",
       "0          Current Addiction Reports   Words   \n",
       "1  Cannabis and Cannabinoid Research   Words   \n",
       "2      Journal of Psychopharmacology   Words   \n",
       "3             Neurobiology of Stress   Words   \n",
       "4                Epilepsy & Behavior   Words   \n",
       "5            Frontiers in Psychiatry   Words   \n",
       "\n",
       "                                            citation  \\\n",
       "0  <b>Martin EL</b> & McRae-Clark AL. Evidence fo...   \n",
       "1  Schlienz NJ, Scalsky R, <b>Martin EL</b>, Jack...   \n",
       "2  Spindle TR, <b>Martin EL</b>, Grabenauer M, Wo...   \n",
       "3  <b>Martin EL</b>, Doncheck EM, Reichel CM, & M...   \n",
       "4  Strickland JC, Jackson H, Schlienz NJ, Salpeka...   \n",
       "5  <b>Martin EL</b>, Strickland JC, Schlienz NJ, ...   \n",
       "\n",
       "                      url_slug  \\\n",
       "0               ecs-cud-review   \n",
       "1           medicinal-cannabis   \n",
       "2          cannabis-impairment   \n",
       "3       sex-stress-translation   \n",
       "4            cannabis-epilepsy   \n",
       "5  cannabis-depression-anxiety   \n",
       "\n",
       "                                           paper_url  \n",
       "0  http://marterin.github.io/files/Martin & McRae...  \n",
       "1  http://marterin.github.io/files/Schlienz et al...  \n",
       "2  http://marterin.github.io/files/Spindle et al....  \n",
       "3  http://marterin.github.io/files/Martin et al. ...  \n",
       "4  http://marterin.github.io/files/Strickland et ...  \n",
       "5  http://marterin.github.io/files/Martin et al. ...  "
      ]
     },
     "execution_count": 69,
     "metadata": {},
     "output_type": "execute_result"
    }
   ],
   "source": [
    "publications = pd.read_csv(\"publications.tsv\", sep=\"\\t\", header=0)\n",
    "publications\n"
   ]
  },
  {
   "cell_type": "markdown",
   "metadata": {},
   "source": [
    "## Escape special characters\n",
    "\n",
    "YAML is very picky about how it takes a valid string, so we are replacing single and double quotes (and ampersands) with their HTML encoded equivilents. This makes them look not so readable in raw format, but they are parsed and rendered nicely."
   ]
  },
  {
   "cell_type": "code",
   "execution_count": 70,
   "metadata": {},
   "outputs": [],
   "source": [
    "html_escape_table = {\n",
    "    \"&\": \"&amp;\",\n",
    "    '\"': \"&quot;\",\n",
    "    \"'\": \"&apos;\"\n",
    "    }\n",
    "\n",
    "def html_escape(text):\n",
    "    \"\"\"Produce entities within text.\"\"\"\n",
    "    return \"\".join(html_escape_table.get(c,c) for c in text)"
   ]
  },
  {
   "cell_type": "markdown",
   "metadata": {},
   "source": [
    "## Creating the markdown files\n",
    "\n",
    "This is where the heavy lifting is done. This loops through all the rows in the TSV dataframe, then starts to concatentate a big string (```md```) that contains the markdown for each type. It does the YAML metadata first, then does the description for the individual page."
   ]
  },
  {
   "cell_type": "code",
   "execution_count": 71,
   "metadata": {},
   "outputs": [],
   "source": [
    "import os\n",
    "for row, item in publications.iterrows():\n",
    "    \n",
    "    md_filename = str(item.pub_date) + \"-\" + item.url_slug + \".md\"\n",
    "    html_filename = str(item.pub_date) + \"-\" + item.url_slug\n",
    "    year = item.pub_date[:4]\n",
    "    \n",
    "    ## YAML variables\n",
    "    \n",
    "    md = \"---\\ntitle: \\\"\"   + item.title + '\"\\n'\n",
    "    \n",
    "    md += \"\"\"collection: publications\"\"\"\n",
    "    \n",
    "    md += \"\"\"\\npermalink: /publication/\"\"\" + html_filename\n",
    "    \n",
    "    if len(str(item.excerpt)) > 5:\n",
    "        md += \"\\nexcerpt: '\" + html_escape(item.excerpt) + \"'\"\n",
    "    \n",
    "    md += \"\\ndate: \" + str(item.pub_date) \n",
    "    \n",
    "    md += \"\\nvenue: '\" + html_escape(item.venue) + \"'\"\n",
    "    \n",
    "    if len(str(item.paper_url)) > 5:\n",
    "        md += \"\\npaperurl: '\" + item.paper_url + \"'\"\n",
    "    \n",
    "    md += \"\\ncitation: '\" + html_escape(item.citation) + \"'\"\n",
    "    \n",
    "    md += \"\\n---\"\n",
    "    \n",
    "    ## Markdown description for individual page\n",
    "        \n",
    "    if len(str(item.excerpt)) > 5:\n",
    "        md += \"\\n\" + html_escape(item.excerpt) + \"\\n\"\n",
    "\n",
    "    md_filename = os.path.basename(md_filename)\n",
    "       \n",
    "    with open(\"../_publications/\" + md_filename, 'w') as f:\n",
    "        f.write(md)"
   ]
  },
  {
   "cell_type": "markdown",
   "metadata": {},
   "source": [
    "These files are in the publications directory, one directory below where we're working from."
   ]
  },
  {
   "cell_type": "code",
   "execution_count": 31,
   "metadata": {},
   "outputs": [
    {
     "name": "stderr",
     "output_type": "stream",
     "text": [
      "'ls' is not recognized as an internal or external command,\n",
      "operable program or batch file.\n"
     ]
    }
   ],
   "source": [
    "!ls ../_publications/"
   ]
  },
  {
   "cell_type": "code",
   "execution_count": 32,
   "metadata": {},
   "outputs": [
    {
     "name": "stderr",
     "output_type": "stream",
     "text": [
      "'cat' is not recognized as an internal or external command,\n",
      "operable program or batch file.\n"
     ]
    }
   ],
   "source": [
    "!cat ../_publications/2009-10-01-paper-title-number-1.md"
   ]
  },
  {
   "cell_type": "code",
   "execution_count": null,
   "metadata": {
    "collapsed": true
   },
   "outputs": [],
   "source": []
  }
 ],
 "metadata": {
  "kernelspec": {
   "display_name": "Python 3",
   "language": "python",
   "name": "python3"
  },
  "language_info": {
   "codemirror_mode": {
    "name": "ipython",
    "version": 3
   },
   "file_extension": ".py",
   "mimetype": "text/x-python",
   "name": "python",
   "nbconvert_exporter": "python",
   "pygments_lexer": "ipython3",
   "version": "3.8.8"
  }
 },
 "nbformat": 4,
 "nbformat_minor": 1
}
